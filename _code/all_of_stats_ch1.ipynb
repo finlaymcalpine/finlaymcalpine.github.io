{
 "cells": [
  {
   "cell_type": "markdown",
   "metadata": {},
   "source": [
    "### All of Statistics: Chapter 1 - Probability\n",
    "\n",
    "A few exercises from Wasserman's All of Statistics. I like this book for reference. It has a good level of detail but is not overly verbose."
   ]
  },
  {
   "cell_type": "markdown",
   "metadata": {},
   "source": [
    "##### Ex 1.21\n",
    "\n",
    "Suppose a coin has a probability _p_ of falling heads up. If we flip the coin many times, we would expect the proportion of heads to be near _p_. Take _p_ = 0.3 and _n_ = 1000 and simulate _n_ coin flips. Plot the proportion of heads as a function of _n_. Repeat for _p_ = 0.03."
   ]
  },
  {
   "cell_type": "code",
   "execution_count": 3,
   "metadata": {},
   "outputs": [],
   "source": [
    "import numpy as np\n",
    "import pandas as pd\n",
    "#import matplotlib.pyplot as plt\n",
    "\n",
    "rng = np.random.default_rng(seed=5)"
   ]
  },
  {
   "cell_type": "code",
   "execution_count": 5,
   "metadata": {},
   "outputs": [],
   "source": [
    "\"\"\"\n",
    "Set initial parameter values for the first part of the questionm where N is 1000 and p is 0.3\n",
    "\"\"\"\n",
    "n, p = 1000, 0.3"
   ]
  },
  {
   "cell_type": "code",
   "execution_count": 9,
   "metadata": {},
   "outputs": [],
   "source": [
    "\"\"\"\n",
    "Generate a sample of N flips, where each flip has probability p of coming up heads (denoted here by 1) and probability 1-p of coming up tails (denoted here by 0)\n",
    "\"\"\"\n",
    "def draw_vals(prob, N):\n",
    "    sample = rng.binomial(1, prob, N)\n",
    "    return sample\n",
    "\n",
    "\"\"\"\n",
    "DataFrame starts with column of results and an associated flip number. We then use an expanding window to add up how many heads we have seen to a given flip n.\n",
    "Then, we get the current proportion of heads by dividing number of heads seen so far by the number of flips.\n",
    "\"\"\"\n",
    "def proportion(prob, N):\n",
    "    df = pd.DataFrame({\"result\": draw_vals(prob, N), \"n\": np.arange(1, N+1)})\n",
    "    df[\"heads\"] = df[\"result\"].expanding().sum()\n",
    "    df[\"proportion\"] = df[\"heads\"]/df[\"n\"]\n",
    "    return df"
   ]
  },
  {
   "cell_type": "code",
   "execution_count": 10,
   "metadata": {},
   "outputs": [
    {
     "data": {
      "text/plain": [
       "<AxesSubplot:xlabel='n'>"
      ]
     },
     "execution_count": 10,
     "metadata": {},
     "output_type": "execute_result"
    },
    {
     "data": {
      "image/png": "[encoded data removed]",
      "text/plain": [
       "<Figure size 432x288 with 1 Axes>"
      ]
     },
     "metadata": {
      "needs_background": "light"
     },
     "output_type": "display_data"
    }
   ],
   "source": [
    "data = proportion(p, n)\n",
    "data.plot(x=\"n\", y=\"proportion\", ylim = (0,1))"
   ]
  },
  {
   "cell_type": "markdown",
   "metadata": {},
   "source": [
    "We can see that the proportion of heads in our sample settles close to the value _p_ as the number of flips increases. This is an illustration of the Law of Large Numbers. If we were told that this was the outcome of a large number of coin flips, but didn't know the probability _p_, we would rightly be suspicious that the coin was not fair."
   ]
  },
  {
   "cell_type": "code",
   "execution_count": 11,
   "metadata": {},
   "outputs": [
    {
     "data": {
      "text/plain": [
       "<AxesSubplot:xlabel='n'>"
      ]
     },
     "execution_count": 11,
     "metadata": {},
     "output_type": "execute_result"
    },
    {
     "data": {
      "image/png": "[encoded data removed]",
      "text/plain": [
       "<Figure size 432x288 with 1 Axes>"
      ]
     },
     "metadata": {
      "needs_background": "light"
     },
     "output_type": "display_data"
    }
   ],
   "source": [
    "\"\"\"\n",
    "Now let's set p = 0.03 and see how the overall picture looks similar, but tends close to the value 0.03.\n",
    "\"\"\"\n",
    "\n",
    "p = 0.03\n",
    "\n",
    "data = proportion(p, n)\n",
    "data.plot(x=\"n\", y=\"proportion\", ylim = (0,1))"
   ]
  },
  {
   "cell_type": "markdown",
   "metadata": {},
   "source": [
    "##### Ex 1.22\n",
    "\n",
    "Suppose we flip a coin _n_ times and let _p_ denote the probablity of heads. Let _X_ be the number of heads. _X_ will be a binomial random variable, given that it is the number of successes in a number of trials. Intuition suggests that _X_ will be close to _np_. To see if this is true, we can repeat the experiment many times and average the _X_ values. Carry out a simulation and compare the average of the _X_'s to _np_. Try this for _p_ = 0.3 and _n_ = (10, 100, 1000)."
   ]
  },
  {
   "cell_type": "code",
   "execution_count": 12,
   "metadata": {},
   "outputs": [],
   "source": [
    "import numpy as np\n",
    "import pandas as pd\n",
    "#import matplotlib.pyplot as plt\n",
    "\n",
    "rng = np.random.default_rng(seed=5)"
   ]
  },
  {
   "cell_type": "code",
   "execution_count": null,
   "metadata": {},
   "outputs": [],
   "source": [
    "\"\"\"\n",
    "Initially, we'll set the parameters p and n. We need to draw a binomial random variable from the corresponding distribution and record the value. \n",
    "We'll then repeat that m times, and average the m values to get our X_bar. That's what we'll compare to np.\n",
    "\"\"\"\n",
    "\n",
    "n, p = 10, 0.3\n"
   ]
  }
 ],
 "metadata": {
  "kernelspec": {
   "display_name": "env0",
   "language": "python",
   "name": "python3"
  },
  "language_info": {
   "codemirror_mode": {
    "name": "ipython",
    "version": 3
   },
   "file_extension": ".py",
   "mimetype": "text/x-python",
   "name": "python",
   "nbconvert_exporter": "python",
   "pygments_lexer": "ipython3",
   "version": "3.10.2"
  }
 },
 "nbformat": 4,
 "nbformat_minor": 2
}
